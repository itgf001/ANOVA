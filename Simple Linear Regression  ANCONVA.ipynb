{
 "cells": [
  {
   "cell_type": "code",
   "execution_count": 1,
   "metadata": {},
   "outputs": [],
   "source": [
    "import pandas as pd"
   ]
  },
  {
   "cell_type": "code",
   "execution_count": 2,
   "metadata": {},
   "outputs": [],
   "source": [
    "Income = [80, 100, 120, 140, 160, 180, 200, 220, 240, 260]\n",
    "Expend = [70, 65, 90, 95, 110, 115, 120, 140, 155, 150]\n"
   ]
  },
  {
   "cell_type": "code",
   "execution_count": 3,
   "metadata": {},
   "outputs": [],
   "source": [
    "df1 = pd.DataFrame(\n",
    " {\n",
    "   \"Income\": Income\n",
    " , \"Expend\": Expend\n",
    " }\n",
    " )\n"
   ]
  },
  {
   "cell_type": "code",
   "execution_count": 4,
   "metadata": {},
   "outputs": [
    {
     "name": "stdout",
     "output_type": "stream",
     "text": [
      "   Income  Expend\n",
      "0      80      70\n",
      "1     100      65\n",
      "2     120      90\n",
      "3     140      95\n",
      "4     160     110\n",
      "5     180     115\n",
      "6     200     120\n",
      "7     220     140\n",
      "8     240     155\n",
      "9     260     150\n"
     ]
    }
   ],
   "source": [
    "print(df1)"
   ]
  },
  {
   "cell_type": "code",
   "execution_count": 5,
   "metadata": {},
   "outputs": [
    {
     "data": {
      "text/plain": [
       "<Figure size 640x480 with 1 Axes>"
      ]
     },
     "metadata": {},
     "output_type": "display_data"
    }
   ],
   "source": [
    "from matplotlib import pyplot as plt\n",
    "fig = plt.figure()\n",
    "plt.scatter(\n",
    "  x      = \"Income\"\n",
    ", y      = \"Expend\"\n",
    ", color  = \"green\"\n",
    ", marker = \"o\"\n",
    ", data   = df1\n",
    ")\n",
    "plt.title(\"Scatter plot of Weekly Income (\\$) and Weekly Expenditures (\\$)\")\n",
    "plt.xlabel(\"Weekly Income (\\$)\")\n",
    "plt.ylabel(\"Weekly Expenditures (\\$)\")\n"
   ]
  },
  {
   "cell_type": "code",
   "execution_count": 6,
   "metadata": {},
   "outputs": [],
   "source": [
    "plt.show()"
   ]
  },
  {
   "cell_type": "code",
   "execution_count": 7,
   "metadata": {},
   "outputs": [
    {
     "name": "stdout",
     "output_type": "stream",
     "text": [
      "                            OLS Regression Results                            \n",
      "==============================================================================\n",
      "Dep. Variable:                 Expend   R-squared:                       0.962\n",
      "Model:                            OLS   Adj. R-squared:                  0.957\n",
      "Method:                 Least Squares   F-statistic:                     202.9\n",
      "Date:                Mon, 02 Sep 2019   Prob (F-statistic):           5.75e-07\n",
      "Time:                        10:14:46   Log-Likelihood:                -31.781\n",
      "No. Observations:                  10   AIC:                             67.56\n",
      "Df Residuals:                       8   BIC:                             68.17\n",
      "Df Model:                           1                                         \n",
      "Covariance Type:            nonrobust                                         \n",
      "==============================================================================\n",
      "                 coef    std err          t      P>|t|      [0.025      0.975]\n",
      "------------------------------------------------------------------------------\n",
      "Intercept     24.4545      6.414      3.813      0.005       9.664      39.245\n",
      "Income         0.5091      0.036     14.243      0.000       0.427       0.592\n",
      "==============================================================================\n",
      "Omnibus:                        1.060   Durbin-Watson:                   2.680\n",
      "Prob(Omnibus):                  0.589   Jarque-Bera (JB):                0.777\n",
      "Skew:                          -0.398   Prob(JB):                        0.678\n",
      "Kurtosis:                       1.891   Cond. No.                         561.\n",
      "==============================================================================\n",
      "\n",
      "Warnings:\n",
      "[1] Standard Errors assume that the covariance matrix of the errors is correctly specified.\n"
     ]
    },
    {
     "name": "stderr",
     "output_type": "stream",
     "text": [
      "C:\\Users\\iteofil1\\.conda\\envs\\launchpad\\lib\\site-packages\\scipy\\stats\\stats.py:1450: UserWarning: kurtosistest only valid for n>=20 ... continuing anyway, n=10\n",
      "  \"anyway, n=%i\" % int(n))\n"
     ]
    }
   ],
   "source": [
    "from statsmodels.formula.api import ols\n",
    "from statsmodels.stats.anova import anova_lm\n",
    "Reg1 = ols(formula = \"Expend ~ Income\", data = df1)\n",
    "Fit1 = Reg1.fit()\n",
    "\n",
    "print(Fit1.summary())"
   ]
  },
  {
   "cell_type": "code",
   "execution_count": 8,
   "metadata": {},
   "outputs": [
    {
     "name": "stdout",
     "output_type": "stream",
     "text": [
      "Intercept    24.454545\n",
      "Income        0.509091\n",
      "dtype: float64\n"
     ]
    }
   ],
   "source": [
    "print(Fit1.params)"
   ]
  },
  {
   "cell_type": "code",
   "execution_count": 9,
   "metadata": {},
   "outputs": [
    {
     "name": "stdout",
     "output_type": "stream",
     "text": [
      "0     65.181818\n",
      "1     75.363636\n",
      "2     85.545455\n",
      "3     95.727273\n",
      "4    105.909091\n",
      "5    116.090909\n",
      "6    126.272727\n",
      "7    136.454545\n",
      "8    146.636364\n",
      "9    156.818182\n",
      "dtype: float64\n"
     ]
    }
   ],
   "source": [
    "print(Fit1.fittedvalues)"
   ]
  },
  {
   "cell_type": "code",
   "execution_count": 10,
   "metadata": {},
   "outputs": [
    {
     "name": "stdout",
     "output_type": "stream",
     "text": [
      "0     4.818182\n",
      "1   -10.363636\n",
      "2     4.454545\n",
      "3    -0.727273\n",
      "4     4.090909\n",
      "5    -1.090909\n",
      "6    -6.272727\n",
      "7     3.545455\n",
      "8     8.363636\n",
      "9    -6.818182\n",
      "dtype: float64\n"
     ]
    }
   ],
   "source": [
    "print(Fit1.resid)"
   ]
  },
  {
   "cell_type": "code",
   "execution_count": 11,
   "metadata": {},
   "outputs": [
    {
     "name": "stdout",
     "output_type": "stream",
     "text": [
      "Intercept    6.413817\n",
      "Income       0.035743\n",
      "dtype: float64\n"
     ]
    }
   ],
   "source": [
    "print(Fit1.bse)"
   ]
  },
  {
   "cell_type": "code",
   "execution_count": 12,
   "metadata": {},
   "outputs": [
    {
     "name": "stdout",
     "output_type": "stream",
     "text": [
      "8890.0\n"
     ]
    }
   ],
   "source": [
    "print(Fit1.centered_tss)"
   ]
  },
  {
   "cell_type": "code",
   "execution_count": 13,
   "metadata": {},
   "outputs": [
    {
     "name": "stdout",
     "output_type": "stream",
     "text": [
      "           df       sum_sq      mean_sq           F        PR(>F)\n",
      "Income    1.0  8552.727273  8552.727273  202.867925  5.752746e-07\n",
      "Residual  8.0   337.272727    42.159091         NaN           NaN\n"
     ]
    }
   ],
   "source": [
    "print(anova_lm(Fit1))"
   ]
  },
  {
   "cell_type": "code",
   "execution_count": 14,
   "metadata": {},
   "outputs": [
    {
     "data": {
      "image/png": "[encoded data removed]",
      "text/plain": [
       "<Figure size 432x288 with 1 Axes>"
      ]
     },
     "metadata": {
      "needs_background": "light"
     },
     "output_type": "display_data"
    }
   ],
   "source": [
    "fig = plt.figure()\n",
    "plt.scatter(\n",
    "  x      = \"Income\"\n",
    ", y      = \"Expend\"\n",
    ", color  = \"green\"\n",
    ", marker = \"o\" \n",
    ", data   = df1\n",
    ")\n",
    "plt.plot(df1[\"Income\"], Fit1.fittedvalues)\n",
    "plt.title(\"Regression plot of Weekly Income (\\$) and Weekly Expenditures (\\$)\")\n",
    "plt.xlabel(\"Weekly Income (\\$)\")\n",
    "plt.ylabel(\"Weekly Expenditures (\\$)\")\n",
    "plt.show()"
   ]
  },
  {
   "cell_type": "code",
   "execution_count": null,
   "metadata": {},
   "outputs": [],
   "source": []
  }
 ],
 "metadata": {
  "kernelspec": {
   "display_name": "Python 3",
   "language": "python",
   "name": "python3"
  },
  "language_info": {
   "codemirror_mode": {
    "name": "ipython",
    "version": 3
   },
   "file_extension": ".py",
   "mimetype": "text/x-python",
   "name": "python",
   "nbconvert_exporter": "python",
   "pygments_lexer": "ipython3",
   "version": "3.6.7"
  }
 },
 "nbformat": 4,
 "nbformat_minor": 2
}
