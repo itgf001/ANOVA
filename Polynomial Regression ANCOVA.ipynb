{
 "cells": [
  {
   "cell_type": "code",
   "execution_count": 1,
   "metadata": {},
   "outputs": [],
   "source": [
    "import pandas as pd"
   ]
  },
  {
   "cell_type": "code",
   "execution_count": 2,
   "metadata": {},
   "outputs": [],
   "source": [
    "Nitrogen = [0, 0, 10, 10, 20, 20]\n",
    "Yield    = [5, 7, 15, 17,  9, 11]"
   ]
  },
  {
   "cell_type": "code",
   "execution_count": 3,
   "metadata": {},
   "outputs": [
    {
     "name": "stdout",
     "output_type": "stream",
     "text": [
      "   Nitrogen  Yield\n",
      "0         0      5\n",
      "1         0      7\n",
      "2        10     15\n",
      "3        10     17\n",
      "4        20      9\n",
      "5        20     11\n"
     ]
    }
   ],
   "source": [
    "df3 = pd.DataFrame(\n",
    " {\n",
    "   \"Nitrogen\": Nitrogen\n",
    " , \"Yield\": Yield\n",
    " }\n",
    " )\n",
    "\n",
    "print(df3)"
   ]
  },
  {
   "cell_type": "code",
   "execution_count": 4,
   "metadata": {},
   "outputs": [
    {
     "data": {
      "text/plain": [
       "<Figure size 640x480 with 1 Axes>"
      ]
     },
     "metadata": {},
     "output_type": "display_data"
    }
   ],
   "source": [
    "from matplotlib import pyplot as plt\n",
    "fig = plt.figure()\n",
    "plt.scatter(\n",
    "  df3[\"Nitrogen\"]\n",
    ", df3[\"Yield\"]\n",
    ", color = \"green\"\n",
    ", marker = \"o\"\n",
    ")\n",
    "plt.title(\"Scatter plot of Nitrogen and Yield\")\n",
    "plt.xlabel(\"Nitrogen\")\n",
    "plt.ylabel(\"Yield\")\n",
    "plt.show()"
   ]
  },
  {
   "cell_type": "code",
   "execution_count": 5,
   "metadata": {},
   "outputs": [
    {
     "name": "stdout",
     "output_type": "stream",
     "text": [
      "                            OLS Regression Results                            \n",
      "==============================================================================\n",
      "Dep. Variable:                  Yield   R-squared:                       0.944\n",
      "Model:                            OLS   Adj. R-squared:                  0.907\n",
      "Method:                 Least Squares   F-statistic:                     25.33\n",
      "Date:                Mon, 02 Sep 2019   Prob (F-statistic):             0.0132\n",
      "Time:                        10:23:28   Log-Likelihood:                -8.5136\n",
      "No. Observations:                   6   AIC:                             23.03\n",
      "Df Residuals:                       3   BIC:                             22.40\n",
      "Df Model:                           2                                         \n",
      "Covariance Type:            nonrobust                                         \n",
      "====================================================================================\n",
      "                       coef    std err          t      P>|t|      [0.025      0.975]\n",
      "------------------------------------------------------------------------------------\n",
      "Intercept            6.0000      1.000      6.000      0.009       2.818       9.182\n",
      "Nitrogen             1.8000      0.255      7.060      0.006       0.989       2.611\n",
      "I(Nitrogen ** 2)    -0.0800      0.012     -6.532      0.007      -0.119      -0.041\n",
      "==============================================================================\n",
      "Omnibus:                          nan   Durbin-Watson:                   3.333\n",
      "Prob(Omnibus):                    nan   Jarque-Bera (JB):                1.000\n",
      "Skew:                           0.000   Prob(JB):                        0.607\n",
      "Kurtosis:                       1.000   Cond. No.                         418.\n",
      "==============================================================================\n",
      "\n",
      "Warnings:\n",
      "[1] Standard Errors assume that the covariance matrix of the errors is correctly specified.\n"
     ]
    },
    {
     "name": "stderr",
     "output_type": "stream",
     "text": [
      "C:\\Users\\iteofil1\\.conda\\envs\\launchpad\\lib\\site-packages\\statsmodels\\stats\\stattools.py:71: ValueWarning: omni_normtest is not valid with less than 8 observations; 6 samples were given.\n",
      "  \"samples were given.\" % int(n), ValueWarning)\n"
     ]
    }
   ],
   "source": [
    "from statsmodels.formula.api import ols\n",
    "from statsmodels.stats.anova import anova_lm\n",
    "Reg3 = ols(formula = \"Yield ~ Nitrogen + I(Nitrogen**2)\", data = df3)\n",
    "Fit3 = Reg3.fit()\n",
    "print(Fit3.summary())"
   ]
  },
  {
   "cell_type": "code",
   "execution_count": 6,
   "metadata": {},
   "outputs": [
    {
     "name": "stdout",
     "output_type": "stream",
     "text": [
      "Intercept           6.00\n",
      "Nitrogen            1.80\n",
      "I(Nitrogen ** 2)   -0.08\n",
      "dtype: float64\n"
     ]
    }
   ],
   "source": [
    "print(Fit3.params)"
   ]
  },
  {
   "cell_type": "code",
   "execution_count": 7,
   "metadata": {},
   "outputs": [
    {
     "name": "stdout",
     "output_type": "stream",
     "text": [
      "0     6.0\n",
      "1     6.0\n",
      "2    16.0\n",
      "3    16.0\n",
      "4    10.0\n",
      "5    10.0\n",
      "dtype: float64\n"
     ]
    }
   ],
   "source": [
    "print(Fit3.fittedvalues)"
   ]
  },
  {
   "cell_type": "code",
   "execution_count": 8,
   "metadata": {},
   "outputs": [
    {
     "name": "stdout",
     "output_type": "stream",
     "text": [
      "0   -1.0\n",
      "1    1.0\n",
      "2   -1.0\n",
      "3    1.0\n",
      "4   -1.0\n",
      "5    1.0\n",
      "dtype: float64\n"
     ]
    }
   ],
   "source": [
    "print(Fit3.resid)"
   ]
  },
  {
   "cell_type": "code",
   "execution_count": 9,
   "metadata": {},
   "outputs": [
    {
     "name": "stdout",
     "output_type": "stream",
     "text": [
      "Intercept           1.000000\n",
      "Nitrogen            0.254951\n",
      "I(Nitrogen ** 2)    0.012247\n",
      "dtype: float64\n"
     ]
    }
   ],
   "source": [
    "print(Fit3.bse)"
   ]
  },
  {
   "cell_type": "code",
   "execution_count": 10,
   "metadata": {},
   "outputs": [
    {
     "name": "stdout",
     "output_type": "stream",
     "text": [
      "107.33333333333334\n"
     ]
    }
   ],
   "source": [
    "print(Fit3.centered_tss)"
   ]
  },
  {
   "cell_type": "code",
   "execution_count": 11,
   "metadata": {},
   "outputs": [
    {
     "name": "stdout",
     "output_type": "stream",
     "text": [
      "                   df     sum_sq    mean_sq          F    PR(>F)\n",
      "Nitrogen          1.0  16.000000  16.000000   8.000000  0.066276\n",
      "I(Nitrogen ** 2)  1.0  85.333333  85.333333  42.666667  0.007292\n",
      "Residual          3.0   6.000000   2.000000        NaN       NaN\n"
     ]
    }
   ],
   "source": [
    "print(anova_lm(Fit3))"
   ]
  },
  {
   "cell_type": "code",
   "execution_count": 12,
   "metadata": {},
   "outputs": [
    {
     "data": {
      "image/png": "[encoded data removed]",
      "text/plain": [
       "<Figure size 432x288 with 1 Axes>"
      ]
     },
     "metadata": {
      "needs_background": "light"
     },
     "output_type": "display_data"
    }
   ],
   "source": [
    "fig = plt.figure()\n",
    "plt.scatter(\n",
    "  df3[\"Nitrogen\"]\n",
    ", df3[\"Yield\"]\n",
    ", color = \"green\"\n",
    ", marker = \"o\"\n",
    ")\n",
    "plt.plot(df3[\"Nitrogen\"], Fit3.fittedvalues)\n",
    "plt.title(\"Regression plot of Nitrogen and Yield\")\n",
    "plt.xlabel(\"Nitrogen\")\n",
    "plt.ylabel(\"Yield\")\n",
    "plt.show()"
   ]
  },
  {
   "cell_type": "code",
   "execution_count": null,
   "metadata": {},
   "outputs": [],
   "source": []
  }
 ],
 "metadata": {
  "kernelspec": {
   "display_name": "Python 3",
   "language": "python",
   "name": "python3"
  },
  "language_info": {
   "codemirror_mode": {
    "name": "ipython",
    "version": 3
   },
   "file_extension": ".py",
   "mimetype": "text/x-python",
   "name": "python",
   "nbconvert_exporter": "python",
   "pygments_lexer": "ipython3",
   "version": "3.6.7"
  }
 },
 "nbformat": 4,
 "nbformat_minor": 2
}
